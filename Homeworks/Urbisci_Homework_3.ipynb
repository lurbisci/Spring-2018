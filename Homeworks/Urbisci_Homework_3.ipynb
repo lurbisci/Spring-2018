{
 "cells": [
  {
   "cell_type": "markdown",
   "metadata": {},
   "source": [
    "create x\n",
    "the do pickle.dump() - follow what the last line of commented code and then apply to X ## pickle.dump(allshots, open('allshots2016-17.pkl', 'wb')) and use all patterns not all allshots\n",
    "\n",
    "need for loop to get all smooth\n",
    "import sklearn.decomposition as skld\n",
    "X = np.stack(all_smooth.values()).T\n",
    "pickle.dump(X, open('allpatterns2016-17.pkl', 'wb'))\n",
    "\n",
    "# go back to lecture 7 execute all code up to create matrix X and save as a picture object then re-load into assignment notebook\n",
    "X = pickle.load(open('allpatterns2016-17.pkl', 'rb'))\n",
    "\n",
    "\n",
    "# problem 2\n",
    "multiply H matrix by W -> What is the correct orientation of matrix  X? What should be the dimension of matrix  RR ?\n",
    "should have 4 plots"
   ]
  }
 ],
 "metadata": {
  "language_info": {
   "name": "python",
   "pygments_lexer": "ipython3"
  }
 },
 "nbformat": 4,
 "nbformat_minor": 2
}
