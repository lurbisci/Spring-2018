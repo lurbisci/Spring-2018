{
 "cells": [
  {
   "cell_type": "markdown",
   "metadata": {},
   "source": [
    "# PSTAT 234 Homework 2 \n",
    "__Author: Laura Urbisci__  \n",
    "__Due date: April 25, 2018 by 10 pm__\n",
    "\n",
    "\n",
    "## Problem 1: Data download"
   ]
  },
  {
   "cell_type": "code",
   "execution_count": 7,
   "metadata": {},
   "outputs": [],
   "source": [
    "import pandas as pd\n",
    "\n",
    "def get_nba_data(endpt, params, return_url=False):\n",
    "\n",
    "    ## endpt: https://github.com/seemethere/nba_py/wiki/stats.nba.com-Endpoint-Documentation\n",
    "    ## params: dictionary of parameters: i.e., {'LeagueID':'00'}\n",
    "    \n",
    "    from pandas import DataFrame\n",
    "    from urllib.parse import urlencode\n",
    "    import json\n",
    "    \n",
    "    useragent = \"\\\"Mozilla/5.0 (Macintosh; Intel Mac OS X 10_11_2) AppleWebKit/601.3.9 (KHTML, like Gecko) Version/9.0.2 Safari/601.3.9\\\"\"\n",
    "    dataurl = \"\\\"\" + \"http://stats.nba.com/stats/\" + endpt + \"?\" + urlencode(params) + \"\\\"\"\n",
    "    \n",
    "    # for debugging: just return the url\n",
    "    if return_url:\n",
    "        return(dataurl)\n",
    "    \n",
    "    jsonstr = !wget -q -O - --user-agent={useragent} {dataurl}\n",
    "    \n",
    "    data = json.loads(jsonstr[0])\n",
    "    \n",
    "    h = data['resultSets'][0]['headers']\n",
    "    d = data['resultSets'][0]['rowSet']\n",
    "    \n",
    "    return(DataFrame(d, columns=h))"
   ]
  },
  {
   "cell_type": "code",
   "execution_count": 208,
   "metadata": {},
   "outputs": [
    {
     "data": {
      "text/html": [
       "<div>\n",
       "<table border=\"1\" class=\"dataframe\">\n",
       "  <thead>\n",
       "    <tr style=\"text-align: right;\">\n",
       "      <th></th>\n",
       "      <th>LEAGUE_ID</th>\n",
       "      <th>TEAM_ID</th>\n",
       "      <th>MIN_YEAR</th>\n",
       "      <th>MAX_YEAR</th>\n",
       "      <th>ABBREVIATION</th>\n",
       "      <th>TEAM_AGE</th>\n",
       "      <th>TEAM_ABBREVIATION</th>\n",
       "      <th>TEAM_CODE</th>\n",
       "    </tr>\n",
       "  </thead>\n",
       "  <tbody>\n",
       "    <tr>\n",
       "      <th>21</th>\n",
       "      <td>00</td>\n",
       "      <td>1610612758</td>\n",
       "      <td>1948</td>\n",
       "      <td>2017</td>\n",
       "      <td>SAC</td>\n",
       "      <td>69</td>\n",
       "      <td>SAC</td>\n",
       "      <td>Kings</td>\n",
       "    </tr>\n",
       "    <tr>\n",
       "      <th>22</th>\n",
       "      <td>00</td>\n",
       "      <td>1610612759</td>\n",
       "      <td>1976</td>\n",
       "      <td>2017</td>\n",
       "      <td>SAS</td>\n",
       "      <td>41</td>\n",
       "      <td>SAS</td>\n",
       "      <td>Spurs</td>\n",
       "    </tr>\n",
       "    <tr>\n",
       "      <th>24</th>\n",
       "      <td>00</td>\n",
       "      <td>1610612761</td>\n",
       "      <td>1995</td>\n",
       "      <td>2017</td>\n",
       "      <td>TOR</td>\n",
       "      <td>22</td>\n",
       "      <td>TOR</td>\n",
       "      <td>Raptors</td>\n",
       "    </tr>\n",
       "    <tr>\n",
       "      <th>25</th>\n",
       "      <td>00</td>\n",
       "      <td>1610612762</td>\n",
       "      <td>1974</td>\n",
       "      <td>2017</td>\n",
       "      <td>UTA</td>\n",
       "      <td>43</td>\n",
       "      <td>UTA</td>\n",
       "      <td>Jazz</td>\n",
       "    </tr>\n",
       "    <tr>\n",
       "      <th>27</th>\n",
       "      <td>00</td>\n",
       "      <td>1610612764</td>\n",
       "      <td>1961</td>\n",
       "      <td>2017</td>\n",
       "      <td>WAS</td>\n",
       "      <td>56</td>\n",
       "      <td>WAS</td>\n",
       "      <td>Wizards</td>\n",
       "    </tr>\n",
       "  </tbody>\n",
       "</table>\n",
       "</div>"
      ],
      "text/plain": [
       "   LEAGUE_ID     TEAM_ID  MIN_YEAR  MAX_YEAR ABBREVIATION  TEAM_AGE  \\\n",
       "21        00  1610612758      1948      2017          SAC        69   \n",
       "22        00  1610612759      1976      2017          SAS        41   \n",
       "24        00  1610612761      1995      2017          TOR        22   \n",
       "25        00  1610612762      1974      2017          UTA        43   \n",
       "27        00  1610612764      1961      2017          WAS        56   \n",
       "\n",
       "   TEAM_ABBREVIATION TEAM_CODE  \n",
       "21               SAC     Kings  \n",
       "22               SAS     Spurs  \n",
       "24               TOR   Raptors  \n",
       "25               UTA      Jazz  \n",
       "27               WAS   Wizards  "
      ]
     },
     "execution_count": 208,
     "metadata": {},
     "output_type": "execute_result"
    }
   ],
   "source": [
    "## get all teams\n",
    "params = {'LeagueID':'00'}\n",
    "teams = get_nba_data('commonTeamYears', params)\n",
    "\n",
    "## get all players\n",
    "params = {'LeagueID':'00', 'Season': '2016-17', 'IsOnlyCurrentSeason': '0'}\n",
    "players = get_nba_data('commonallplayers', params)\n",
    "\n",
    "teams.ABBREVIATION = teams.ABBREVIATION.astype('category')\n",
    "teams.TEAM_ID      = teams.TEAM_ID.astype('category')\n",
    "teams.MIN_YEAR     = teams.MIN_YEAR.astype('int')\n",
    "teams.MAX_YEAR     = teams.MAX_YEAR.astype('int')\n",
    "\n",
    "teams = teams[teams.MAX_YEAR == 2017]\n",
    "teams['TEAM_AGE'] = teams.MAX_YEAR - teams.MIN_YEAR\n",
    "\n",
    "teams_clean = teams.copy() ## make a copy for later\n",
    "team_names = players[['TEAM_ABBREVIATION', 'TEAM_CODE']].drop_duplicates()#.set_index('TEAM_ABBREVIATION')\n",
    "teams = pd.merge(teams_clean, team_names, left_on='ABBREVIATION', right_on='TEAM_ABBREVIATION')\n",
    "teams.TEAM_CODE = teams.TEAM_CODE.str.capitalize() # returns values so needs to be reassigned\n",
    "teams.sort_values('ABBREVIATION', inplace=True)    # modifies object\n",
    "teams.tail()"
   ]
  },
  {
   "cell_type": "markdown",
   "metadata": {},
   "source": [
    "## Problem 2: Creating interactive widgets\n",
    "\n",
    "I decided to create another widget that ...."
   ]
  },
  {
   "cell_type": "code",
   "execution_count": 111,
   "metadata": {},
   "outputs": [
    {
     "data": {
      "application/vnd.jupyter.widget-view+json": {
       "model_id": "5fa4f24c8a0647c9bb40fa7e57440434",
       "version_major": 2,
       "version_minor": 0
      },
      "text/html": [
       "<p>Failed to display Jupyter Widget of type <code>Dropdown</code>.</p>\n",
       "<p>\n",
       "  If you're reading this message in the Jupyter Notebook or JupyterLab Notebook, it may mean\n",
       "  that the widgets JavaScript is still loading. If this message persists, it\n",
       "  likely means that the widgets JavaScript library is either not installed or\n",
       "  not enabled. See the <a href=\"https://ipywidgets.readthedocs.io/en/stable/user_install.html\">Jupyter\n",
       "  Widgets Documentation</a> for setup instructions.\n",
       "</p>\n",
       "<p>\n",
       "  If you're reading this message in another frontend (for example, a static\n",
       "  rendering on GitHub or <a href=\"https://nbviewer.jupyter.org/\">NBViewer</a>),\n",
       "  it may mean that your frontend doesn't currently support widgets.\n",
       "</p>\n"
      ],
      "text/plain": [
       "Dropdown(options=('ginger', 'green', 'earl grey'), value='ginger')"
      ]
     },
     "metadata": {},
     "output_type": "display_data"
    },
    {
     "data": {
      "application/vnd.jupyter.widget-view+json": {
       "model_id": "0319ac0d15284180a741b70fee234ab5",
       "version_major": 2,
       "version_minor": 0
      },
      "text/html": [
       "<p>Failed to display Jupyter Widget of type <code>Dropdown</code>.</p>\n",
       "<p>\n",
       "  If you're reading this message in the Jupyter Notebook or JupyterLab Notebook, it may mean\n",
       "  that the widgets JavaScript is still loading. If this message persists, it\n",
       "  likely means that the widgets JavaScript library is either not installed or\n",
       "  not enabled. See the <a href=\"https://ipywidgets.readthedocs.io/en/stable/user_install.html\">Jupyter\n",
       "  Widgets Documentation</a> for setup instructions.\n",
       "</p>\n",
       "<p>\n",
       "  If you're reading this message in another frontend (for example, a static\n",
       "  rendering on GitHub or <a href=\"https://nbviewer.jupyter.org/\">NBViewer</a>),\n",
       "  it may mean that your frontend doesn't currently support widgets.\n",
       "</p>\n"
      ],
      "text/plain": [
       "Dropdown(index=1, options=('juice', 'tea'), value='tea')"
      ]
     },
     "metadata": {},
     "output_type": "display_data"
    },
    {
     "data": {
      "application/vnd.jupyter.widget-view+json": {
       "model_id": "ab59879425db4072a744e6e8556b0eb0",
       "version_major": 2,
       "version_minor": 0
      },
      "text/html": [
       "<p>Failed to display Jupyter Widget of type <code>Button</code>.</p>\n",
       "<p>\n",
       "  If you're reading this message in the Jupyter Notebook or JupyterLab Notebook, it may mean\n",
       "  that the widgets JavaScript is still loading. If this message persists, it\n",
       "  likely means that the widgets JavaScript library is either not installed or\n",
       "  not enabled. See the <a href=\"https://ipywidgets.readthedocs.io/en/stable/user_install.html\">Jupyter\n",
       "  Widgets Documentation</a> for setup instructions.\n",
       "</p>\n",
       "<p>\n",
       "  If you're reading this message in another frontend (for example, a static\n",
       "  rendering on GitHub or <a href=\"https://nbviewer.jupyter.org/\">NBViewer</a>),\n",
       "  it may mean that your frontend doesn't currently support widgets.\n",
       "</p>\n"
      ],
      "text/plain": [
       "Button(description='Order!', icon='check', style=ButtonStyle())"
      ]
     },
     "metadata": {},
     "output_type": "display_data"
    }
   ],
   "source": [
    "from ipywidgets import interact, FloatSlider, Dropdown, Button\n",
    "\n",
    "# First widget from lecture - drinks and types\n",
    "menu = {\n",
    "    'juice':['apple', 'peach', 'grape'],\n",
    "    'tea':['ginger', 'green', 'earl grey'],\n",
    "}\n",
    "\n",
    "selected = 'tea'\n",
    "\n",
    "flavor = Dropdown(options=menu[selected], value=menu[selected][0])\n",
    "drink = Dropdown(options=menu.keys(), value=selected)\n",
    "order = Button(description='Order!', icon='check')\n",
    "\n",
    "def update_drink(change):\n",
    "    flavor.options = menu[change['new']]\n",
    "    flavor.selected = menu[change['new']][0]\n",
    "    \n",
    "def make_order(change):\n",
    "    print(flavor.value, drink.value)\n",
    "    \n",
    "drink.observe(update_drink, names='value')\n",
    "order.on_click(make_order)\n",
    " \n",
    "display(flavor, drink, order)"
   ]
  },
  {
   "cell_type": "code",
   "execution_count": 175,
   "metadata": {},
   "outputs": [
    {
     "data": {
      "application/vnd.jupyter.widget-view+json": {
       "model_id": "c375c24dc51543f3942fc7edf70f6d4a",
       "version_major": 2,
       "version_minor": 0
      },
      "text/html": [
       "<p>Failed to display Jupyter Widget of type <code>Dropdown</code>.</p>\n",
       "<p>\n",
       "  If you're reading this message in the Jupyter Notebook or JupyterLab Notebook, it may mean\n",
       "  that the widgets JavaScript is still loading. If this message persists, it\n",
       "  likely means that the widgets JavaScript library is either not installed or\n",
       "  not enabled. See the <a href=\"https://ipywidgets.readthedocs.io/en/stable/user_install.html\">Jupyter\n",
       "  Widgets Documentation</a> for setup instructions.\n",
       "</p>\n",
       "<p>\n",
       "  If you're reading this message in another frontend (for example, a static\n",
       "  rendering on GitHub or <a href=\"https://nbviewer.jupyter.org/\">NBViewer</a>),\n",
       "  it may mean that your frontend doesn't currently support widgets.\n",
       "</p>\n"
      ],
      "text/plain": [
       "Dropdown(index=12, options={'ATL, Hawks': 1610612737, 'BKN, Nets': 1610612751, 'BOS, Celtics': 1610612738, 'CHA, Hornets': 1610612766, 'CHI, Bulls': 1610612741, 'CLE, Cavaliers': 1610612739, 'DAL, Mavericks': 1610612742, 'DEN, Nuggets': 1610612743, 'DET, Pistons': 1610612765, 'GSW, Warriors': 1610612744, 'HOU, Rockets': 1610612745, 'IND, Pacers': 1610612754, 'LAC, Clippers': 1610612746, 'LAL, Lakers': 1610612747, 'MEM, Grizzlies': 1610612763, 'MIA, Heat': 1610612748, 'MIL, Bucks': 1610612749, 'MIN, Timberwolves': 1610612750, 'NOP, Pelicans': 1610612740, 'NYK, Knicks': 1610612752, 'OKC, Thunder': 1610612760, 'ORL, Magic': 1610612753, 'PHI, Sixers': 1610612755, 'PHX, Suns': 1610612756, 'POR, Blazers': 1610612757, 'SAC, Kings': 1610612758, 'SAS, Spurs': 1610612759, 'TOR, Raptors': 1610612761, 'UTA, Jazz': 1610612762, 'WAS, Wizards': 1610612764}, value=1610612746)"
      ]
     },
     "metadata": {},
     "output_type": "display_data"
    },
    {
     "data": {
      "application/vnd.jupyter.widget-view+json": {
       "model_id": "26f1525dc6a641e6b1c4231f1f38dbdc",
       "version_major": 2,
       "version_minor": 0
      },
      "text/html": [
       "<p>Failed to display Jupyter Widget of type <code>Dropdown</code>.</p>\n",
       "<p>\n",
       "  If you're reading this message in the Jupyter Notebook or JupyterLab Notebook, it may mean\n",
       "  that the widgets JavaScript is still loading. If this message persists, it\n",
       "  likely means that the widgets JavaScript library is either not installed or\n",
       "  not enabled. See the <a href=\"https://ipywidgets.readthedocs.io/en/stable/user_install.html\">Jupyter\n",
       "  Widgets Documentation</a> for setup instructions.\n",
       "</p>\n",
       "<p>\n",
       "  If you're reading this message in another frontend (for example, a static\n",
       "  rendering on GitHub or <a href=\"https://nbviewer.jupyter.org/\">NBViewer</a>),\n",
       "  it may mean that your frontend doesn't currently support widgets.\n",
       "</p>\n"
      ],
      "text/plain": [
       "Dropdown(options={'Anderson, Alan': 101187, 'Bass, Brandon': 101138, 'Crawford, Jamal': 2037, 'Felton, Raymond': 101109, 'Griffin, Blake': 201933, 'Johnson, Brice': 1627744, 'Johnson, Wesley': 202325, 'Jordan, DeAndre': 201599, 'Mbah a Moute, Luc': 201601, 'Paul, Chris': 101108, 'Pierce, Paul': 1718, 'Redick, JJ': 200755, 'Rivers, Austin': 203085, 'Speights, Marreese': 201578, 'Stone, Diamond': 1627754}, value=101187)"
      ]
     },
     "metadata": {},
     "output_type": "display_data"
    }
   ],
   "source": [
    "# second widget from lecture - Teams and players\n",
    "team_dd_text = teams.TEAM_ABBREVIATION+', '+teams.TEAM_CODE\n",
    "team_dd = dict(zip(team_dd_text, teams.TEAM_ID))\n",
    "\n",
    "plyr_by_team_dd = dict()\n",
    "\n",
    "for t, p in players.groupby('TEAM_ID'):\n",
    "    plyr_by_team_dd[t] = dict(zip(p.DISPLAY_LAST_COMMA_FIRST, p.PERSON_ID))\n",
    "\n",
    "plyr_dd_text = players.DISPLAY_LAST_COMMA_FIRST\n",
    "plyr_dd_id = players.PERSON_ID\n",
    "plyr_dd = dict(zip(plyr_dd_text, plyr_dd_id))\n",
    "\n",
    "selected = 'LAC, Clippers'\n",
    "\n",
    "team_menu = Dropdown(options=team_dd, label=selected)\n",
    "plyr_menu = Dropdown(options=plyr_by_team_dd[team_dd[selected]])\n",
    "\n",
    "display(team_menu, plyr_menu)\n",
    "\n",
    "def update_team(change):\n",
    "    plyr_menu.options = plyr_by_team_dd[change['new']]\n",
    "\n",
    "team_menu.observe(update_team, names='value')"
   ]
  },
  {
   "cell_type": "code",
   "execution_count": 214,
   "metadata": {
    "scrolled": true
   },
   "outputs": [
    {
     "data": {
      "text/plain": [
       "47"
      ]
     },
     "execution_count": 214,
     "metadata": {},
     "output_type": "execute_result"
    }
   ],
   "source": [
    "# can i just add on to this add have it display a 3rd thing?\n",
    "team_age_val = teams.TEAM_AGE\n",
    "team_age = dict(zip(team_dd_text, team_age_val))\n",
    "\n",
    "team_age[selected]\n",
    "#age_menu = Dropdown(options=team_age, label=team_age[selected])\n",
    "#display(team_menu, plyr_menu, age_menu)\n",
    "\n"
   ]
  },
  {
   "cell_type": "code",
   "execution_count": null,
   "metadata": {},
   "outputs": [],
   "source": []
  }
 ],
 "metadata": {
  "kernelspec": {
   "display_name": "Python 3",
   "language": "python",
   "name": "python3"
  },
  "language_info": {
   "codemirror_mode": {
    "name": "ipython",
    "version": 3
   },
   "file_extension": ".py",
   "mimetype": "text/x-python",
   "name": "python",
   "nbconvert_exporter": "python",
   "pygments_lexer": "ipython3",
   "version": "3.6.3"
  }
 },
 "nbformat": 4,
 "nbformat_minor": 2
}
